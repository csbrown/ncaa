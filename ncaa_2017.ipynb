{
 "cells": [
  {
   "cell_type": "code",
   "execution_count": 22,
   "metadata": {
    "collapsed": true
   },
   "outputs": [],
   "source": [
    "import pandas as pd\n",
    "import numpy as np\n",
    "import csv"
   ]
  },
  {
   "cell_type": "code",
   "execution_count": 4,
   "metadata": {
    "collapsed": true
   },
   "outputs": [],
   "source": [
    "df = pd.read_csv(\"ncaa_2017.csv\", header=1)"
   ]
  },
  {
   "cell_type": "code",
   "execution_count": 5,
   "metadata": {
    "collapsed": false
   },
   "outputs": [
    {
     "data": {
      "text/html": [
       "<div>\n",
       "<table border=\"1\" class=\"dataframe\">\n",
       "  <thead>\n",
       "    <tr style=\"text-align: right;\">\n",
       "      <th></th>\n",
       "      <th>Rk</th>\n",
       "      <th>School</th>\n",
       "      <th>G</th>\n",
       "      <th>W</th>\n",
       "      <th>L</th>\n",
       "      <th>W-L%</th>\n",
       "      <th>SRS</th>\n",
       "      <th>SOS</th>\n",
       "      <th>W.1</th>\n",
       "      <th>L.1</th>\n",
       "      <th>...</th>\n",
       "      <th>FT</th>\n",
       "      <th>FTA</th>\n",
       "      <th>FT%</th>\n",
       "      <th>ORB</th>\n",
       "      <th>TRB</th>\n",
       "      <th>AST</th>\n",
       "      <th>STL</th>\n",
       "      <th>BLK</th>\n",
       "      <th>TOV</th>\n",
       "      <th>PF</th>\n",
       "    </tr>\n",
       "  </thead>\n",
       "  <tbody>\n",
       "    <tr>\n",
       "      <th>0</th>\n",
       "      <td>1</td>\n",
       "      <td>Abilene Christian</td>\n",
       "      <td>29</td>\n",
       "      <td>13</td>\n",
       "      <td>16</td>\n",
       "      <td>0.448</td>\n",
       "      <td>-11.85</td>\n",
       "      <td>-7.09</td>\n",
       "      <td>7</td>\n",
       "      <td>11</td>\n",
       "      <td>...</td>\n",
       "      <td>360</td>\n",
       "      <td>543</td>\n",
       "      <td>0.663</td>\n",
       "      <td>221</td>\n",
       "      <td>904</td>\n",
       "      <td>408</td>\n",
       "      <td>210</td>\n",
       "      <td>83</td>\n",
       "      <td>412</td>\n",
       "      <td>631</td>\n",
       "    </tr>\n",
       "    <tr>\n",
       "      <th>1</th>\n",
       "      <td>2</td>\n",
       "      <td>Air Force</td>\n",
       "      <td>33</td>\n",
       "      <td>12</td>\n",
       "      <td>21</td>\n",
       "      <td>0.364</td>\n",
       "      <td>-2.99</td>\n",
       "      <td>1.08</td>\n",
       "      <td>4</td>\n",
       "      <td>14</td>\n",
       "      <td>...</td>\n",
       "      <td>513</td>\n",
       "      <td>715</td>\n",
       "      <td>0.717</td>\n",
       "      <td>308</td>\n",
       "      <td>1149</td>\n",
       "      <td>494</td>\n",
       "      <td>197</td>\n",
       "      <td>57</td>\n",
       "      <td>397</td>\n",
       "      <td>594</td>\n",
       "    </tr>\n",
       "    <tr>\n",
       "      <th>2</th>\n",
       "      <td>3</td>\n",
       "      <td>Akron</td>\n",
       "      <td>34</td>\n",
       "      <td>26</td>\n",
       "      <td>8</td>\n",
       "      <td>0.765</td>\n",
       "      <td>3.97</td>\n",
       "      <td>-1.52</td>\n",
       "      <td>14</td>\n",
       "      <td>4</td>\n",
       "      <td>...</td>\n",
       "      <td>470</td>\n",
       "      <td>691</td>\n",
       "      <td>0.680</td>\n",
       "      <td>334</td>\n",
       "      <td>1173</td>\n",
       "      <td>499</td>\n",
       "      <td>185</td>\n",
       "      <td>110</td>\n",
       "      <td>396</td>\n",
       "      <td>616</td>\n",
       "    </tr>\n",
       "    <tr>\n",
       "      <th>3</th>\n",
       "      <td>4</td>\n",
       "      <td>Alabama A&amp;M</td>\n",
       "      <td>29</td>\n",
       "      <td>2</td>\n",
       "      <td>27</td>\n",
       "      <td>0.069</td>\n",
       "      <td>-26.71</td>\n",
       "      <td>-10.82</td>\n",
       "      <td>2</td>\n",
       "      <td>16</td>\n",
       "      <td>...</td>\n",
       "      <td>411</td>\n",
       "      <td>614</td>\n",
       "      <td>0.669</td>\n",
       "      <td>292</td>\n",
       "      <td>914</td>\n",
       "      <td>326</td>\n",
       "      <td>100</td>\n",
       "      <td>50</td>\n",
       "      <td>383</td>\n",
       "      <td>526</td>\n",
       "    </tr>\n",
       "    <tr>\n",
       "      <th>4</th>\n",
       "      <td>5</td>\n",
       "      <td>Alabama-Birmingham</td>\n",
       "      <td>33</td>\n",
       "      <td>17</td>\n",
       "      <td>16</td>\n",
       "      <td>0.515</td>\n",
       "      <td>-1.03</td>\n",
       "      <td>-1.68</td>\n",
       "      <td>9</td>\n",
       "      <td>9</td>\n",
       "      <td>...</td>\n",
       "      <td>496</td>\n",
       "      <td>674</td>\n",
       "      <td>0.736</td>\n",
       "      <td>322</td>\n",
       "      <td>1188</td>\n",
       "      <td>503</td>\n",
       "      <td>157</td>\n",
       "      <td>160</td>\n",
       "      <td>444</td>\n",
       "      <td>527</td>\n",
       "    </tr>\n",
       "  </tbody>\n",
       "</table>\n",
       "<p>5 rows × 34 columns</p>\n",
       "</div>"
      ],
      "text/plain": [
       "   Rk              School   G   W   L   W-L%    SRS    SOS  W.1  L.1 ...   \\\n",
       "0   1   Abilene Christian  29  13  16  0.448 -11.85  -7.09    7   11 ...    \n",
       "1   2           Air Force  33  12  21  0.364  -2.99   1.08    4   14 ...    \n",
       "2   3               Akron  34  26   8  0.765   3.97  -1.52   14    4 ...    \n",
       "3   4         Alabama A&M  29   2  27  0.069 -26.71 -10.82    2   16 ...    \n",
       "4   5  Alabama-Birmingham  33  17  16  0.515  -1.03  -1.68    9    9 ...    \n",
       "\n",
       "    FT  FTA    FT%  ORB   TRB  AST  STL  BLK  TOV   PF  \n",
       "0  360  543  0.663  221   904  408  210   83  412  631  \n",
       "1  513  715  0.717  308  1149  494  197   57  397  594  \n",
       "2  470  691  0.680  334  1173  499  185  110  396  616  \n",
       "3  411  614  0.669  292   914  326  100   50  383  526  \n",
       "4  496  674  0.736  322  1188  503  157  160  444  527  \n",
       "\n",
       "[5 rows x 34 columns]"
      ]
     },
     "execution_count": 5,
     "metadata": {},
     "output_type": "execute_result"
    }
   ],
   "source": [
    "df.head()"
   ]
  },
  {
   "cell_type": "code",
   "execution_count": 42,
   "metadata": {
    "collapsed": false
   },
   "outputs": [
    {
     "name": "stdout",
     "output_type": "stream",
     "text": [
      "[[u'1', u'Villanova', u'Big East', u'1.00', u'150', u'&nbsp;', u'1', u'1', u'1', u'1', u'1', u'1', u'1', u'1', u'1', u'1', u'1', u'1', u'1', u'1', u'1', u'1', u'1', u'1', u'1', u'1', u'1', u'1', u'1', u'1', u'1', u'1', u'1', u'1', u'1', u'1', u'Villanova'], [u'1', u'Kansas', u'Big 12', u'1.03', u'150', u'&nbsp;', u'1', u'1', u'1', u'1', u'1', u'1', u'1', u'1', u'1', u'1', u'1', u'1', u'1', u'1', u'1', u'1', u'1', u'1', u'1', u'1', u'1', u'1', u'1', u'1', u'1', u'1', u'1', u'1', u'1', u'1', u'Kansas'], [u'1', u'Gonzaga', u'West Coast', u'1.07', u'150', u'&nbsp;', u'1', u'1', u'1', u'1', u'1', u'1', u'1', u'1', u'1', u'1', u'1', u'2', u'1', u'1', u'1', u'1', u'1', u'1', u'1', u'1', u'1', u'1', u'1', u'1', u'2', u'2', u'1', u'1', u'1', u'1', u'Gonzaga'], [u'1', u'North Carolina', u'ACC', u'1.41', u'150', u'&nbsp;', u'1', u'1', u'1', u'1', u'1', u'1', u'1', u'2', u'2', u'2', u'1', u'2', u'1', u'1', u'2', u'1', u'2', u'2', u'2', u'2', u'1', u'2', u'1', u'1', u'1', u'1', u'2', u'1', u'2', u'2', u'North Carolina'], [u'2', u'Duke', u'ACC', u'1.73', u'150', u'&nbsp;', u'2', u'2', u'2', u'2', u'2', u'2', u'2', u'1', u'1', u'1', u'2', u'2', u'2', u'2', u'1', u'2', u'1', u'2', u'2', u'2', u'2', u'2', u'2', u'2', u'2', u'1', u'1', u'2', u'1', u'1', u'Duke'], [u'2', u'Kentucky', u'SEC', u'1.89', u'150', u'&nbsp;', u'2', u'2', u'2', u'2', u'2', u'2', u'2', u'2', u'2', u'2', u'2', u'1', u'2', u'2', u'2', u'2', u'2', u'1', u'2', u'1', u'2', u'1', u'2', u'2', u'2', u'2', u'2', u'2', u'2', u'2', u'Kentucky'], [u'2', u'Arizona', u'Pacific-12', u'1.95', u'150', u'&nbsp;', u'2', u'2', u'2', u'2', u'2', u'2', u'2', u'2', u'2', u'2', u'2', u'1', u'2', u'2', u'2', u'2', u'2', u'2', u'1', u'2', u'2', u'2', u'2', u'2', u'1', u'2', u'2', u'2', u'2', u'2', u'Arizona'], [u'2', u'Louisville', u'ACC', u'2.85', u'150', u'&nbsp;', u'3', u'3', u'3', u'3', u'3', u'3', u'3', u'3', u'3', u'3', u'3', u'2', u'3', u'3', u'3', u'3', u'3', u'3', u'3', u'4', u'3', u'2', u'3', u'2', u'3', u'3', u'3', u'3', u'3', u'3', u'Louisville'], [u'3', u'Oregon', u'Pacific-12', u'2.60', u'150', u'&nbsp;', u'2', u'2', u'3', u'2', u'3', u'3', u'2', u'3', u'3', u'3', u'2', u'3', u'2', u'3', u'3', u'2', u'2', u'3', u'3', u'2', u'3', u'3', u'3', u'3', u'2', u'3', u'3', u'2', u'2', u'2', u'Oregon'], [u'3', u'Baylor', u'Big 12', u'2.75', u'150', u'&nbsp;', u'3', u'3', u'2', u'3', u'2', u'4', u'3', u'3', u'2', u'2', u'3', u'3', u'3', u'2', u'2', u'3', u'3', u'2', u'2', u'3', u'2', u'3', u'2', u'3', u'3', u'2', u'3', u'3', u'3', u'3', u'Baylor'], [u'3', u'UCLA', u'Pacific-12', u'3.09', u'150', u'&nbsp;', u'3', u'3', u'3', u'3', u'3', u'2', u'3', u'2', u'3', u'3', u'3', u'3', u'3', u'3', u'3', u'3', u'3', u'3', u'3', u'3', u'3', u'3', u'3', u'3', u'4', u'3', u'2', u'3', u'3', u'3', u'UCLA'], [u'3', u'Florida State', u'ACC', u'3.23', u'150', u'&nbsp;', u'3', u'4', u'4', u'3', u'4', u'3', u'4', u'3', u'3', u'4', u'3', u'3', u'3', u'3', u'3', u'3', u'3', u'4', u'3', u'4', u'3', u'3', u'4', u'3', u'3', u'3', u'3', u'4', u'3', u'3', u'Florida State'], [u'4', u'Florida', u'SEC', u'3.87', u'150', u'&nbsp;', u'5', u'4', u'3', u'4', u'4', u'3', u'4', u'4', u'4', u'4', u'5', u'4', u'4', u'4', u'4', u'4', u'4', u'3', u'5', u'3', u'4', u'4', u'3', u'4', u'4', u'4', u'4', u'4', u'4', u'4', u'Florida'], [u'4', u'Butler', u'Big East', u'4.05', u'150', u'&nbsp;', u'4', u'4', u'4', u'4', u'3', u'4', u'4', u'4', u'4', u'3', u'6', u'4', u'4', u'4', u'4', u'4', u'4', u'5', u'4', u'3', u'4', u'5', u'4', u'4', u'3', u'4', u'4', u'4', u'4', u'4', u'Butler'], [u'4', u'West Virginia', u'Big 12', u'4.15', u'150', u'&nbsp;', u'4', u'3', u'5', u'4', u'5', u'5', u'4', u'5', u'4', u'4', u'4', u'4', u'5', u'4', u'4', u'4', u'4', u'4', u'4', u'4', u'4', u'4', u'4', u'4', u'5', u'5', u'4', u'4', u'4', u'4', u'West Virginia'], [u'4', u'Purdue', u'Big Ten', u'4.78', u'150', u'&nbsp;', u'4', u'5', u'5', u'5', u'4', u'5', u'5', u'5', u'5', u'5', u'4', u'5', u'6', u'5', u'5', u'5', u'5', u'4', u'4', u'4', u'4', u'5', u'5', u'5', u'4', u'5', u'5', u'5', u'5', u'5', u'Purdue'], [u'5', u'Notre Dame', u'ACC', u'4.29', u'150', u'&nbsp;', u'4', u'5', u'4', u'4', u'6', u'4', u'3', u'4', u'4', u'4', u'4', u'5', u'5', u'4', u'4', u'4', u'4', u'4', u'4', u'6', u'5', u'4', u'5', u'4', u'5', u'4', u'4', u'3', u'4', u'4', u'Notre Dame'], [u'5', u'Virginia', u'ACC', u'4.93', u'150', u'&nbsp;', u'5', u'4', u'5', u'5', u'5', u'4', u'5', u'4', u'5', u'5', u'5', u'4', u'4', u'5', u'5', u'6', u'5', u'5', u'5', u'6', u'5', u'5', u'4', u'5', u'4', u'4', u'5', u'6', u'5', u'5', u'Virginia'], [u'5', u'Iowa State', u'Big 12', u'5.13', u'150', u'&nbsp;', u'6', u'5', u'4', u'5', u'4', u'7', u'5', u'5', u'5', u'5', u'4', u'5', u'4', u'5', u'6', u'5', u'5', u'5', u'5', u'6', u'6', u'6', u'5', u'5', u'5', u'5', u'5', u'5', u'5', u'5', u'Iowa State'], [u'5', u'Minnesota', u'Big Ten', u'6.03', u'150', u'&nbsp;', u'6', u'6', u'6', u'6', u'5', u'5', u'7', u'6', u'6', u'6', u'6', u'5', u'6', u'6', u'5', u'6', u'6', u'7', u'6', u'6', u'6', u'7', u'6', u'6', u'5', u'6', u'6', u'7', u'6', u'6', u'Minnesota'], [u'6', u'SMU', u'American', u'5.31', u'150', u'&nbsp;', u'5', u'6', u'6', u'5', u'6', u'6', u'5', u'5', u'5', u'5', u'5', u'6', u'5', u'6', u'5', u'5', u'5', u'5', u'5', u'5', u'5', u'4', u'5', u'5', u'6', u'5', u'5', u'5', u'5', u'5', u'SMU'], [u'6', u'Cincinnati', u'American', u'5.43', u'150', u'&nbsp;', u'5', u'5', u'5', u'6', u'5', u'6', u'6', u'6', u'6', u'6', u'6', u'6', u'5', u'5', u'6', u'5', u'6', u'6', u'6', u'5', u'5', u'5', u'6', u'6', u'6', u'6', u'6', u'5', u'6', u'6', u'Cincinnati'], [u'6', u'Creighton', u'Big East', u'6.57', u'150', u'&nbsp;', u'7', u'6', u'7', u'7', u'6', u'7', u'6', u'7', u'7', u'6', u'6', u'7', u'7', u'6', u'7', u'7', u'6', u'7', u'7', u'5', u'7', u'7', u'6', u'6', u'6', u'7', u'7', u'7', u'7', u'7', u'Creighton'], [u'6', u'Maryland', u'Big Ten', u'7.12', u'150', u'&nbsp;', u'7', u'7', u'7', u'7', u'7', u'8', u'7', u'7', u'7', u'7', u'7', u'7', u'8', u'7', u'7', u'8', u'7', u'7', u'7', u'7', u'7', u'7', u'7', u'7', u'7', u'7', u'7', u'7', u'7', u'7', u'Maryland'], [u'7', u'Michigan', u'Big Ten', u'6.46', u'150', u'&nbsp;', u'7', u'7', u'7', u'6', u'7', u'7', u'6', u'6', u'6', u'6', u'7', u'6', u'7', u'6', u'8', u'6', u'7', u'6', u'6', u'7', u'7', u'6', u'6', u'6', u'7', u'6', u'6', u'6', u'6', u'6', u'Michigan'], [u'7', u\"St. Mary's (CA)\", u'West Coast', u'6.68', u'150', u'&nbsp;', u'6', u'8', u'6', u'7', u'7', u'6', u'7', u'7', u'7', u'8', u'7', u'7', u'6', u'7', u'6', u'7', u'7', u'6', u'7', u'7', u'6', u'6', u'7', u'7', u'7', u'7', u'7', u'6', u'7', u'7', u\"St. Mary's (CA)\"], [u'7', u'South Carolina', u'SEC', u'8.95', u'150', u'&nbsp;', u'9', u'9', u'10', u'9', u'8', u'8', u'8', u'9', u'9', u'11', u'9', u'10', u'10', u'9', u'7', u'9', u'9', u'9', u'10', u'10', u'9', u'9', u'9', u'10', u'8', u'8', u'9', u'9', u'8', u'9', u'South Carolina'], [u'7', u'Dayton', u'Atlantic 10', u'8.36', u'149', u'&nbsp;', u'8', u'8', u'8', u'9', u'8', u'9', u'9', u'8', u'10', u'9', u'8', u'8', u'8', u'9', u'7', u'7', u'9', u'8', u'9', u'10', u'8', u'8', u'7', u'8', u'8', u'7', u'9', u'7', u'8', u'10', u'Dayton'], [u'8', u'Wisconsin', u'Big Ten', u'6.11', u'150', u'&nbsp;', u'6', u'6', u'6', u'6', u'7', u'6', u'6', u'6', u'6', u'7', u'5', u'6', u'7', u'7', u'6', u'6', u'6', u'6', u'6', u'5', u'6', u'6', u'7', u'7', u'6', u'6', u'6', u'6', u'6', u'6', u'Wisconsin'], [u'8', u'Arkansas', u'SEC', u'7.85', u'150', u'&nbsp;', u'9', u'7', u'7', u'8', u'8', u'5', u'9', u'8', u'7', u'9', u'8', u'7', u'6', u'8', u'8', u'9', u'8', u'8', u'8', u'8', u'8', u'7', u'9', u'7', u'7', u'8', u'8', u'8', u'7', u'7', u'Arkansas'], [u'8', u'Miami (FLA.)', u'ACC', u'7.95', u'150', u'&nbsp;', u'8', u'8', u'8', u'7', u'8', u'8', u'8', u'8', u'10', u'7', u'7', u'8', u'10', u'7', u'8', u'7', u'8', u'9', u'7', u'10', u'9', u'8', u'8', u'8', u'8', u'8', u'8', u'8', u'8', u'8', u'Miami (FLA.)'], [u'8', u'Northwestern', u'Big Ten', u'8.83', u'150', u'&nbsp;', u'8', u'9', u'9', u'8', u'10', u'9', u'8', u'8', u'9', u'7', u'9', u'9', u'10', u'11', u'8', u'9', u'8', u'8', u'9', u'9', u'8', u'9', u'10', u'10', u'9', u'10', u'8', u'9', u'9', u'8', u'Northwestern'], [u'9', u'Virginia Tech', u'ACC', u'8.43', u'150', u'&nbsp;', u'9', u'8', u'8', u'8', u'9', u'7', u'9', u'9', u'9', u'8', u'8', u'9', u'12', u'10', u'9', u'8', u'7', u'9', u'8', u'9', u'9', u'8', u'8', u'9', u'9', u'8', u'8', u'8', u'9', u'9', u'Virginia Tech'], [u'9', u'Seton Hall', u'Big East', u'9.69', u'150', u'&nbsp;', u'10', u'10', u'10', u'11', u'9', u'10', u'9', u'12', u'11', u'8', u'9', u'8', u'12', u'10', u'10', u'10', u'10', u'11', u'9', u'9', u'11', u'10', u'9', u'11', u'8', u'10', u'11', u'10', u'11', u'9', u'Seton Hall'], [u'9', u'Vanderbilt', u'SEC', u'10.07', u'149', u'&nbsp;', u'10', u'10', u'9', u'10', u'11', u'8', u'10', u'10', u'8', u'11', u'11', u'11', u'9', u'9', u'10', u'9', u'10', u'10', u'12', u'11', u'10', u'12', u'11', u'9', u'9', u'10', u'9', u'11', u'8', u'10', u'Vanderbilt'], [u'9', u'Michigan State', u'Big Ten', u'10.18', u'149', u'&nbsp;', u'10', u'10', u'10', u'10', u'9', u'10', u'10', u'10', u'8', u'11', u'10', u'10', u'11', u'11', u'10', u'10', u'10', u'11', u'10', u'11', u'11', u'11', u'10', u'10', u'10', u'9', u'10', u'10', u'9', u'10', u'Michigan State'], [u'10', u'Wichita State', u'Missouri Valley', u'8.31', u'150', u'&nbsp;', u'7', u'7', u'10', u'8', u'9', u'10', u'7', u'7', u'8', u'8', u'8', u'8', u'8', u'9', u'9', u'8', u'8', u'7', u'8', u'7', u'7', u'9', u'8', u'9', u'10', u'9', u'7', u'8', u'11', u'8', u'Wichita State'], [u'10', u'Oklahoma State', u'Big 12', u'8.93', u'150', u'&nbsp;', u'8', u'9', u'11', u'9', u'6', u'11', u'8', u'11', u'8', u'10', u'9', u'11', u'9', u'8', u'11', u'8', u'9', u'8', u'8', u'10', u'10', u'8', u'8', u'9', u'10', u'9', u'10', u'9', u'9', u'8', u'Oklahoma State'], [u'10', u'VCU', u'Atlantic 10', u'9.03', u'150', u'&nbsp;', u'9', u'9', u'8', u'10', u'10', u'9', u'10', u'9', u'10', u'9', u'10', u'9', u'7', u'10', u'10', u'10', u'9', u'9', u'9', u'8', u'8', u'9', u'10', u'8', u'9', u'9', u'10', u'9', u'10', u'11', u'VCU'], [u'10', u'Marquette', u'Big East', u'10.12', u'148', u'&nbsp;', u'11', u'10', u'9', u'9', u'&nbsp;', u'11', u'10', u'10', u'12', u'10', u'10', u'9', u'11', u'8', u'9', u'11', u'11', u'11', u'11', u'11', u'10', u'11', u'9', u'10', u'11', u'10', u'9', u'10', u'10', u'10', u'Marquette'], [u'11', u'Xavier', u'Big East', u'10.26', u'150', u'&nbsp;', u'11', u'11', u'9', u'11', u'10', u'10', u'11', u'9', u'10', u'11', u'10', u'11', u'9', u'8', u'11', u'10', u'10', u'10', u'10', u'9', u'9', u'10', u'10', u'8', u'10', u'12', u'10', u'11', u'10', u'9', u'Xavier'], [u'11', u'Wake Forest', u'ACC', u'11.01', u'148', u'&nbsp;', u'11', u'11', u'11', u'11', u'11', u'11', u'11', u'10', u'11', u'12', u'12', u'11', u'9', u'11', u'12', u'11', u'11', u'10', u'11', u'11', u'11', u'10', u'11', u'11', u'11', u'11', u'11', u'11', u'10', u'11', u'Wake Forest'], [u'11', u'Providence', u'Big East', u'10.94', u'143', u'&nbsp;', u'10', u'11', u'11', u'11', u'12', u'11', u'11', u'11', u'11', u'10', u'11', u'10', u'11', u'11', u'11', u'11', u'11', u'12', u'&nbsp;', u'12', u'12', u'12', u'12', u'11', u'11', u'11', u'11', u'11', u'12', u'11', u'Providence'], [u'11', u'Rhode Island', u'Atlantic 10', u'10.80', u'142', u'&nbsp;', u'11', u'12', u'11', u'11', u'11', u'11', u'11', u'11', u'9', u'9', u'11', u'10', u'8', u'10', u'11', u'11', u'11', u'10', u'11', u'12', u'11', u'11', u'11', u'11', u'11', u'11', u'11', u'11', u'11', u'12', u'Rhode Island'], [u'11', u'Kansas State', u'Big 12', u'11.40', u'132', u'&nbsp;', u'12', u'12', u'12', u'12', u'11', u'12', u'&nbsp;', u'11', u'&nbsp;', u'11', u'12', u'12', u'11', u'11', u'12', u'&nbsp;', u'12', u'11', u'11', u'12', u'12', u'11', u'12', u'11', u'11', u'11', u'12', u'12', u'11', u'11', u'Kansas State'], [u'11', u'USC', u'Pacific-12', u'11.41', u'127', u'&nbsp;', u'&nbsp;', u'12', u'12', u'12', u'&nbsp;', u'12', u'11', u'12', u'11', u'12', u'&nbsp;', u'12', u'12', u'11', u'11', u'11', u'12', u'&nbsp;', u'10', u'11', u'11', u'10', u'11', u'11', u'&nbsp;', u'&nbsp;', u'12', u'&nbsp;', u'12', u'11', u'USC'], [u'12', u'Middle Tennessee', u'CUSA', u'11.04', u'150', u'&nbsp;', u'11', u'11', u'11', u'10', u'10', u'12', u'12', u'11', u'11', u'10', u'11', u'11', u'12', u'12', u'9', u'12', u'11', u'11', u'11', u'8', u'10', u'12', u'11', u'12', u'12', u'12', u'11', u'10', u'11', u'11', u'Middle Tennessee'], [u'12', u'Nevada', u'Mountain West', u'11.73', u'150', u'&nbsp;', u'12', u'12', u'12', u'12', u'12', u'9', u'12', u'12', u'12', u'12', u'12', u'12', u'10', u'12', u'12', u'12', u'12', u'12', u'12', u'8', u'12', u'11', u'12', u'12', u'12', u'11', u'12', u'12', u'12', u'12', u'Nevada'], [u'12', u'NC-Wilmington', u'Colonial', u'11.91', u'150', u'&nbsp;', u'12', u'12', u'12', u'12', u'12', u'12', u'12', u'12', u'12', u'12', u'12', u'12', u'11', u'12', u'12', u'12', u'12', u'12', u'12', u'12', u'12', u'12', u'12', u'12', u'12', u'12', u'12', u'12', u'12', u'12', u'NC-Wilmington'], [u'12', u'Princeton', u'Ivy', u'12.73', u'150', u'&nbsp;', u'13', u'13', u'12', u'13', u'13', u'13', u'13', u'13', u'13', u'12', u'12', u'13', u'13', u'12', u'13', u'13', u'13', u'13', u'13', u'13', u'12', u'13', u'12', u'12', u'13', u'12', u'12', u'13', u'13', u'13', u'Princeton'], [u'13', u'Vermont', u'America East', u'12.38', u'150', u'&nbsp;', u'12', u'12', u'13', u'12', u'12', u'12', u'12', u'12', u'13', u'13', u'13', u'12', u'12', u'13', u'13', u'12', u'13', u'12', u'12', u'13', u'13', u'13', u'13', u'13', u'12', u'13', u'13', u'12', u'12', u'12', u'Vermont'], [u'13', u'E. Tennessee State', u'Southern', u'13.05', u'150', u'&nbsp;', u'13', u'13', u'13', u'13', u'13', u'13', u'13', u'13', u'13', u'13', u'13', u'13', u'13', u'13', u'12', u'13', u'13', u'13', u'13', u'13', u'13', u'12', u'13', u'13', u'13', u'13', u'13', u'13', u'13', u'13', u'E. Tennessee State'], [u'13', u'Bucknell', u'Patriot', u'13.06', u'150', u'&nbsp;', u'13', u'13', u'13', u'13', u'13', u'13', u'13', u'13', u'12', u'13', u'13', u'13', u'13', u'13', u'14', u'13', u'12', u'13', u'13', u'14', u'13', u'13', u'13', u'13', u'13', u'13', u'13', u'13', u'13', u'13', u'Bucknell'], [u'13', u'Winthrop', u'Big South', u'13.55', u'150', u'&nbsp;', u'13', u'14', u'14', u'13', u'14', u'13', u'13', u'13', u'13', u'14', u'14', u'14', u'14', u'14', u'13', u'14', u'14', u'14', u'14', u'14', u'13', u'14', u'14', u'14', u'13', u'14', u'14', u'13', u'14', u'13', u'Winthrop'], [u'14', u'New Mexico State', u'WAC', u'13.39', u'150', u'&nbsp;', u'14', u'13', u'13', u'14', u'14', u'14', u'14', u'14', u'14', u'13', u'13', u'13', u'13', u'13', u'13', u'13', u'14', u'13', u'13', u'12', u'14', u'13', u'13', u'13', u'14', u'13', u'13', u'14', u'13', u'14', u'New Mexico State'], [u'14', u'Florida Gulf Coast', u'Atlantic Sun', u'13.95', u'150', u'&nbsp;', u'14', u'14', u'14', u'14', u'15', u'14', u'14', u'14', u'14', u'14', u'14', u'14', u'14', u'14', u'14', u'14', u'13', u'14', u'14', u'14', u'14', u'14', u'14', u'14', u'14', u'14', u'14', u'14', u'14', u'14', u'Florida Gulf Coast'], [u'14', u'Iona', u'Metro Atlantic', u'14.01', u'150', u'&nbsp;', u'14', u'14', u'14', u'14', u'13', u'14', u'14', u'14', u'14', u'14', u'14', u'14', u'14', u'14', u'14', u'14', u'14', u'14', u'14', u'15', u'14', u'14', u'14', u'14', u'14', u'14', u'14', u'14', u'14', u'14', u'Iona'], [u'14', u'Kent State', u'MAC', u'14.85', u'150', u'&nbsp;', u'15', u'15', u'15', u'15', u'14', u'15', u'14', u'15', u'15', u'15', u'14', u'15', u'15', u'15', u'14', u'15', u'14', u'15', u'15', u'14', u'15', u'15', u'15', u'15', u'15', u'15', u'15', u'15', u'15', u'15', u'Kent State'], [u'15', u'Northern Kentucky', u'Horizon', u'14.20', u'150', u'&nbsp;', u'14', u'15', u'14', u'14', u'14', u'14', u'15', u'14', u'14', u'14', u'15', u'14', u'14', u'14', u'15', u'14', u'15', u'14', u'14', u'13', u'14', u'14', u'14', u'14', u'14', u'14', u'14', u'14', u'14', u'14', u'Northern Kentucky'], [u'15', u'North Dakota', u'Big Sky', u'15.15', u'150', u'&nbsp;', u'15', u'15', u'15', u'15', u'16', u'16', u'15', u'15', u'16', u'15', u'15', u'16', u'15', u'15', u'15', u'15', u'16', u'15', u'15', u'15', u'15', u'15', u'15', u'15', u'15', u'15', u'15', u'15', u'15', u'15', u'North Dakota'], [u'15', u'Troy', u'Sun Belt', u'15.41', u'150', u'&nbsp;', u'15', u'14', u'16', u'15', u'15', u'16', u'16', u'16', u'15', u'15', u'16', u'15', u'16', u'15', u'16', u'16', u'16', u'16', u'16', u'16', u'15', u'15', u'15', u'16', u'16', u'15', u'16', u'16', u'15', u'15', u'Troy'], [u'15', u'Jacksonville State', u'Ohio Valley', u'15.64', u'150', u'&nbsp;', u'16', u'16', u'15', u'15', u'16', u'16', u'16', u'16', u'16', u'16', u'16', u'16', u'15', u'15', u'15', u'16', u'16', u'16', u'15', u'16', u'16', u'16', u'16', u'15', u'16', u'15', u'16', u'15', u'15', u'16', u'Jacksonville State'], [u'16', u'Texas Southern', u'SWAC', u'15.21', u'150', u'&nbsp;', u'16', u'15', u'15', u'16', u'16', u'15', u'15', u'15', u'15', u'15', u'15', u'15', u'15', u'16', u'15', u'15', u'15', u'15', u'15', u'15', u'15', u'15', u'16', u'15', u'15', u'16', u'15', u'15', u'16', u'15', u'Texas Southern'], [u'16', u'South Dakota State', u'Summit', u'15.82', u'150', u'&nbsp;', u'15', u'16', u'16', u'16', u'15', u'16', u'16', u'16', u'15', u'16', u'16', u'15', u'16', u'16', u'16', u'16', u'15', u'16', u'16', u'16', u'16', u'16', u'15', u'16', u'16', u'16', u'16', u'16', u'16', u'16', u'South Dakota State'], [u'16', u'North Carolina Central', u'Mid-Eastern', u'15.83', u'150', u'&nbsp;', u'16', u'16', u'16', u'16', u'15', u'16', u'16', u'15', u'16', u'16', u'16', u'16', u'16', u'16', u'16', u'16', u'16', u'16', u'16', u'16', u'16', u'16', u'16', u'16', u'16', u'16', u'16', u'16', u'16', u'16', u'North Carolina Central'], [u'16', u'UC Davis', u'Big West', u'15.89', u'150', u'&nbsp;', u'16', u'16', u'16', u'16', u'16', u'15', u'15', u'16', u'16', u'16', u'15', u'16', u'16', u'16', u'16', u'16', u'16', u'16', u'16', u'16', u'16', u'16', u'16', u'16', u'16', u'16', u'16', u'16', u'16', u'16', u'UC Davis'], [u'16', u'New Orleans', u'Southland', u'15.91', u'150', u'&nbsp;', u'16', u'16', u'16', u'16', u'16', u'16', u'16', u'16', u'16', u'16', u'16', u'16', u'16', u'16', u'16', u'16', u'15', u'15', u'16', u'15', u'16', u'16', u'16', u'16', u'16', u'16', u'15', u'16', u'16', u'16', u'New Orleans'], [u'16', u\"Mount St. Mary's\", u'Northeast', u'15.94', u'150', u'&nbsp;', u'16', u'16', u'16', u'16', u'16', u'15', u'16', u'16', u'16', u'16', u'16', u'16', u'16', u'16', u'16', u'15', u'16', u'16', u'16', u'16', u'16', u'16', u'16', u'16', u'15', u'16', u'16', u'16', u'16', u'16', u\"Mount St. Mary's\"]]\n"
     ]
    }
   ],
   "source": [
    "from mechanize import Browser\n",
    "from BeautifulSoup import BeautifulSoup\n",
    "\n",
    "mech = Browser()\n",
    "\n",
    "url = \"http://bracketmatrix.com/\"\n",
    "page = mech.open(url)\n",
    "\n",
    "html = page.read()\n",
    "soup = BeautifulSoup(html)\n",
    "\n",
    "data = []\n",
    "for row in soup.findAll('tr')[3:6+16*4+1]: # data starts in the fourth table row, and proceeds for 16*4 rows\n",
    "    data_row = []\n",
    "    for col in row.findAll('td')[:37]:\n",
    "        data_row.append(col.string)\n",
    "    data.append(data_row)\n",
    "    \n",
    "print data"
   ]
  },
  {
   "cell_type": "code",
   "execution_count": 45,
   "metadata": {
    "collapsed": false
   },
   "outputs": [],
   "source": [
    "with open('bracket_matrix.csv', 'wb') as csvfile:\n",
    "    spamwriter = csv.writer(csvfile, delimiter=',')\n",
    "    spamwriter.writerows(data)"
   ]
  },
  {
   "cell_type": "code",
   "execution_count": 51,
   "metadata": {
    "collapsed": false
   },
   "outputs": [
    {
     "name": "stdout",
     "output_type": "stream",
     "text": [
      "36 37\n"
     ]
    }
   ],
   "source": [
    "columns = (\n",
    "    \"team, conf, n, m, nothing, 17th, 1977, 68&16, AC, Alex, ASTB, AZ, BA, BaP, Bball, BBB!, BBP, Beef, BEIS, \" +\n",
    "    \"BIG, black, BM, BoB, Bow, BoW, BP, brac, Brack, Brad, Brodd, Bros, BtBr, BU, Bucky, Buffet, _team\"\n",
    ")\n",
    "columns = map(lambda x: x.strip(), columns.split(\",\"))\n",
    "print len(columns), len(data[1])\n",
    "bracket_matrix = pd.read_csv(\"bracket_matrix.csv\",names=columns)"
   ]
  },
  {
   "cell_type": "code",
   "execution_count": 52,
   "metadata": {
    "collapsed": false
   },
   "outputs": [
    {
     "name": "stdout",
     "output_type": "stream",
     "text": [
      "             team        conf     n    m nothing 17th  1977  68&16  AC Alex  \\\n",
      "1       Villanova    Big East  1.00  150  &nbsp;    1     1      1   1    1   \n",
      "1          Kansas      Big 12  1.03  150  &nbsp;    1     1      1   1    1   \n",
      "1         Gonzaga  West Coast  1.07  150  &nbsp;    1     1      1   1    1   \n",
      "1  North Carolina         ACC  1.41  150  &nbsp;    1     1      1   1    1   \n",
      "2            Duke         ACC  1.73  150  &nbsp;    2     2      2   2    2   \n",
      "\n",
      "        ...        brac Brack  Brad Brodd  Bros BtBr  BU  Bucky  Buffet  \\\n",
      "1       ...           1     1     1     1     1    1   1      1       1   \n",
      "1       ...           1     1     1     1     1    1   1      1       1   \n",
      "1       ...           1     1     1     2     2    1   1      1       1   \n",
      "1       ...           2     1     1     1     1    2   1      2       2   \n",
      "2       ...           2     2     2     2     1    1   2      1       1   \n",
      "\n",
      "            _team  \n",
      "1       Villanova  \n",
      "1          Kansas  \n",
      "1         Gonzaga  \n",
      "1  North Carolina  \n",
      "2            Duke  \n",
      "\n",
      "[5 rows x 36 columns]\n"
     ]
    }
   ],
   "source": [
    "print bracket_matrix.head()"
   ]
  },
  {
   "cell_type": "code",
   "execution_count": 62,
   "metadata": {
    "collapsed": false
   },
   "outputs": [],
   "source": [
    "b = bracket_matrix[\"team\"].sort_values(inplace=False)"
   ]
  },
  {
   "cell_type": "code",
   "execution_count": 63,
   "metadata": {
    "collapsed": true
   },
   "outputs": [],
   "source": [
    "bracket = pd.read_csv(\"bracket.csv\", names=[\"team\"])"
   ]
  },
  {
   "cell_type": "code",
   "execution_count": 64,
   "metadata": {
    "collapsed": false
   },
   "outputs": [],
   "source": [
    "a = bracket[\"team\"].sort_values(inplace=False)"
   ]
  },
  {
   "cell_type": "code",
   "execution_count": 70,
   "metadata": {
    "collapsed": false
   },
   "outputs": [
    {
     "name": "stdout",
     "output_type": "stream",
     "text": [
      "                                                   0\n",
      "0  [Arizona, Arkansas, Baylor, Bucknell, Butler, ...\n",
      "1  [Arizona, Arkansas, Baylor, Bucknell, Butler, ...\n"
     ]
    }
   ],
   "source": [
    "print pd.DataFrame(np.array([a.as_matrix(),b.as_matrix()]).T)"
   ]
  },
  {
   "cell_type": "code",
   "execution_count": null,
   "metadata": {
    "collapsed": true
   },
   "outputs": [],
   "source": []
  }
 ],
 "metadata": {
  "kernelspec": {
   "display_name": "Python 2",
   "language": "python",
   "name": "python2"
  },
  "language_info": {
   "codemirror_mode": {
    "name": "ipython",
    "version": 2
   },
   "file_extension": ".py",
   "mimetype": "text/x-python",
   "name": "python",
   "nbconvert_exporter": "python",
   "pygments_lexer": "ipython2",
   "version": "2.7.12"
  }
 },
 "nbformat": 4,
 "nbformat_minor": 2
}
